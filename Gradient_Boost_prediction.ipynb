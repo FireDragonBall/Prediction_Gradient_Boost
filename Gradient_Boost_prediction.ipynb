{
  "nbformat": 4,
  "nbformat_minor": 0,
  "metadata": {
    "colab": {
      "name": "w3ver4.ipynb",
      "provenance": [],
      "collapsed_sections": []
    },
    "kernelspec": {
      "name": "python3",
      "display_name": "Python 3"
    }
  },
  "cells": [
    {
      "cell_type": "code",
      "metadata": {
        "id": "0hZcn-cqPPpE"
      },
      "source": [
        "from google.colab import files\n",
        "import pandas as pd\n",
        "import numpy as np\n",
        "import seaborn as sb\n",
        "from sklearn.ensemble import GradientBoostingClassifier as GBC\n",
        "from sklearn.metrics import confusion_matrix as CM\n",
        "import warnings\n",
        "warnings.filterwarnings('ignore')"
      ],
      "execution_count": 5,
      "outputs": []
    },
    {
      "cell_type": "markdown",
      "metadata": {
        "id": "J1tbAH8KYOdh"
      },
      "source": [
        "Step 1 Import dataset and do the cleaning"
      ]
    },
    {
      "cell_type": "code",
      "metadata": {
        "id": "3wN2obbFP58s",
        "outputId": "e10bf5f5-8f9b-4754-b99e-90bf199df503",
        "colab": {
          "resources": {
            "http://localhost:8080/nbextensions/google.colab/files.js": {
              "data": "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",
              "ok": true,
              "headers": [
                [
                  "content-type",
                  "application/javascript"
                ]
              ],
              "status": 200,
              "status_text": ""
            }
          },
          "base_uri": "https://localhost:8080/",
          "height": 142
        }
      },
      "source": [
        "uploaded = files.upload()\n",
        "files.upload\n",
        "for fn in uploaded.keys():\n",
        "  print('User uploaded file \"{name}\" with length {length} bytes'.format(\n",
        "      name=fn, length=len(uploaded[fn])))"
      ],
      "execution_count": null,
      "outputs": [
        {
          "output_type": "display_data",
          "data": {
            "text/html": [
              "\n",
              "     <input type=\"file\" id=\"files-2c83cbfd-3a69-4665-82d5-12bcb61fe6fe\" name=\"files[]\" multiple disabled\n",
              "        style=\"border:none\" />\n",
              "     <output id=\"result-2c83cbfd-3a69-4665-82d5-12bcb61fe6fe\">\n",
              "      Upload widget is only available when the cell has been executed in the\n",
              "      current browser session. Please rerun this cell to enable.\n",
              "      </output>\n",
              "      <script src=\"/nbextensions/google.colab/files.js\"></script> "
            ],
            "text/plain": [
              "<IPython.core.display.HTML object>"
            ]
          },
          "metadata": {
            "tags": []
          }
        },
        {
          "output_type": "stream",
          "text": [
            "Saving mnist_test.csv to mnist_test.csv\n",
            "Saving mnist_train.csv to mnist_train.csv\n",
            "User uploaded file \"mnist_test.csv\" with length 18289443 bytes\n",
            "User uploaded file \"mnist_train.csv\" with length 109575994 bytes\n"
          ],
          "name": "stdout"
        }
      ]
    },
    {
      "cell_type": "code",
      "metadata": {
        "id": "vSqE995OPXJv"
      },
      "source": [
        "train = pd.read_csv('mnist_train.csv',header = None)\n",
        "test = pd.read_csv('mnist_test.csv',header = None)"
      ],
      "execution_count": 210,
      "outputs": []
    },
    {
      "cell_type": "code",
      "metadata": {
        "id": "K_IAQyGTPa0j",
        "outputId": "64be8163-4c0f-43e2-d951-a6222a96d8b6",
        "colab": {
          "base_uri": "https://localhost:8080/",
          "height": 487
        }
      },
      "source": [
        "# Rename the first column as 'initial' to stands for original labels\n",
        "train.rename(columns={0:'initial'}, inplace=True)\n",
        "test.rename(columns={0:'initial'}, inplace=True)\n",
        "print(train)\n",
        "print(test)"
      ],
      "execution_count": 211,
      "outputs": [
        {
          "output_type": "stream",
          "text": [
            "       initial  1  2  3  4  5  6  7  ...  777  778  779  780  781  782  783  784\n",
            "0            5  0  0  0  0  0  0  0  ...    0    0    0    0    0    0    0    0\n",
            "1            0  0  0  0  0  0  0  0  ...    0    0    0    0    0    0    0    0\n",
            "2            4  0  0  0  0  0  0  0  ...    0    0    0    0    0    0    0    0\n",
            "3            1  0  0  0  0  0  0  0  ...    0    0    0    0    0    0    0    0\n",
            "4            9  0  0  0  0  0  0  0  ...    0    0    0    0    0    0    0    0\n",
            "...        ... .. .. .. .. .. .. ..  ...  ...  ...  ...  ...  ...  ...  ...  ...\n",
            "59995        8  0  0  0  0  0  0  0  ...    0    0    0    0    0    0    0    0\n",
            "59996        3  0  0  0  0  0  0  0  ...    0    0    0    0    0    0    0    0\n",
            "59997        5  0  0  0  0  0  0  0  ...    0    0    0    0    0    0    0    0\n",
            "59998        6  0  0  0  0  0  0  0  ...    0    0    0    0    0    0    0    0\n",
            "59999        8  0  0  0  0  0  0  0  ...    0    0    0    0    0    0    0    0\n",
            "\n",
            "[60000 rows x 785 columns]\n",
            "      initial  1  2  3  4  5  6  7  ...  777  778  779  780  781  782  783  784\n",
            "0           7  0  0  0  0  0  0  0  ...    0    0    0    0    0    0    0    0\n",
            "1           2  0  0  0  0  0  0  0  ...    0    0    0    0    0    0    0    0\n",
            "2           1  0  0  0  0  0  0  0  ...    0    0    0    0    0    0    0    0\n",
            "3           0  0  0  0  0  0  0  0  ...    0    0    0    0    0    0    0    0\n",
            "4           4  0  0  0  0  0  0  0  ...    0    0    0    0    0    0    0    0\n",
            "...       ... .. .. .. .. .. .. ..  ...  ...  ...  ...  ...  ...  ...  ...  ...\n",
            "9995        2  0  0  0  0  0  0  0  ...    0    0    0    0    0    0    0    0\n",
            "9996        3  0  0  0  0  0  0  0  ...    0    0    0    0    0    0    0    0\n",
            "9997        4  0  0  0  0  0  0  0  ...    0    0    0    0    0    0    0    0\n",
            "9998        5  0  0  0  0  0  0  0  ...    0    0    0    0    0    0    0    0\n",
            "9999        6  0  0  0  0  0  0  0  ...    0    0    0    0    0    0    0    0\n",
            "\n",
            "[10000 rows x 785 columns]\n"
          ],
          "name": "stdout"
        }
      ]
    },
    {
      "cell_type": "code",
      "metadata": {
        "id": "li8wI3SETOwM"
      },
      "source": [
        "train.shape\n",
        "train.info()"
      ],
      "execution_count": null,
      "outputs": []
    },
    {
      "cell_type": "code",
      "metadata": {
        "id": "g0qw2t58TOy-"
      },
      "source": [
        "test.shape\n",
        "test.info()"
      ],
      "execution_count": null,
      "outputs": []
    },
    {
      "cell_type": "code",
      "metadata": {
        "id": "Pk0DABxpTO1X",
        "outputId": "c6ff9758-1f9d-4c5f-e428-230a1b6fbbfa",
        "colab": {
          "base_uri": "https://localhost:8080/",
          "height": 185
        }
      },
      "source": [
        "train.head(3)"
      ],
      "execution_count": 84,
      "outputs": [
        {
          "output_type": "execute_result",
          "data": {
            "text/html": [
              "<div>\n",
              "<style scoped>\n",
              "    .dataframe tbody tr th:only-of-type {\n",
              "        vertical-align: middle;\n",
              "    }\n",
              "\n",
              "    .dataframe tbody tr th {\n",
              "        vertical-align: top;\n",
              "    }\n",
              "\n",
              "    .dataframe thead th {\n",
              "        text-align: right;\n",
              "    }\n",
              "</style>\n",
              "<table border=\"1\" class=\"dataframe\">\n",
              "  <thead>\n",
              "    <tr style=\"text-align: right;\">\n",
              "      <th></th>\n",
              "      <th>initial</th>\n",
              "      <th>1</th>\n",
              "      <th>2</th>\n",
              "      <th>3</th>\n",
              "      <th>4</th>\n",
              "      <th>5</th>\n",
              "      <th>6</th>\n",
              "      <th>7</th>\n",
              "      <th>8</th>\n",
              "      <th>9</th>\n",
              "      <th>10</th>\n",
              "      <th>11</th>\n",
              "      <th>12</th>\n",
              "      <th>13</th>\n",
              "      <th>14</th>\n",
              "      <th>15</th>\n",
              "      <th>16</th>\n",
              "      <th>17</th>\n",
              "      <th>18</th>\n",
              "      <th>19</th>\n",
              "      <th>20</th>\n",
              "      <th>21</th>\n",
              "      <th>22</th>\n",
              "      <th>23</th>\n",
              "      <th>24</th>\n",
              "      <th>25</th>\n",
              "      <th>26</th>\n",
              "      <th>27</th>\n",
              "      <th>28</th>\n",
              "      <th>29</th>\n",
              "      <th>30</th>\n",
              "      <th>31</th>\n",
              "      <th>32</th>\n",
              "      <th>33</th>\n",
              "      <th>34</th>\n",
              "      <th>35</th>\n",
              "      <th>36</th>\n",
              "      <th>37</th>\n",
              "      <th>38</th>\n",
              "      <th>39</th>\n",
              "      <th>...</th>\n",
              "      <th>745</th>\n",
              "      <th>746</th>\n",
              "      <th>747</th>\n",
              "      <th>748</th>\n",
              "      <th>749</th>\n",
              "      <th>750</th>\n",
              "      <th>751</th>\n",
              "      <th>752</th>\n",
              "      <th>753</th>\n",
              "      <th>754</th>\n",
              "      <th>755</th>\n",
              "      <th>756</th>\n",
              "      <th>757</th>\n",
              "      <th>758</th>\n",
              "      <th>759</th>\n",
              "      <th>760</th>\n",
              "      <th>761</th>\n",
              "      <th>762</th>\n",
              "      <th>763</th>\n",
              "      <th>764</th>\n",
              "      <th>765</th>\n",
              "      <th>766</th>\n",
              "      <th>767</th>\n",
              "      <th>768</th>\n",
              "      <th>769</th>\n",
              "      <th>770</th>\n",
              "      <th>771</th>\n",
              "      <th>772</th>\n",
              "      <th>773</th>\n",
              "      <th>774</th>\n",
              "      <th>775</th>\n",
              "      <th>776</th>\n",
              "      <th>777</th>\n",
              "      <th>778</th>\n",
              "      <th>779</th>\n",
              "      <th>780</th>\n",
              "      <th>781</th>\n",
              "      <th>782</th>\n",
              "      <th>783</th>\n",
              "      <th>784</th>\n",
              "    </tr>\n",
              "  </thead>\n",
              "  <tbody>\n",
              "    <tr>\n",
              "      <th>0</th>\n",
              "      <td>5</td>\n",
              "      <td>0</td>\n",
              "      <td>0</td>\n",
              "      <td>0</td>\n",
              "      <td>0</td>\n",
              "      <td>0</td>\n",
              "      <td>0</td>\n",
              "      <td>0</td>\n",
              "      <td>0</td>\n",
              "      <td>0</td>\n",
              "      <td>0</td>\n",
              "      <td>0</td>\n",
              "      <td>0</td>\n",
              "      <td>0</td>\n",
              "      <td>0</td>\n",
              "      <td>0</td>\n",
              "      <td>0</td>\n",
              "      <td>0</td>\n",
              "      <td>0</td>\n",
              "      <td>0</td>\n",
              "      <td>0</td>\n",
              "      <td>0</td>\n",
              "      <td>0</td>\n",
              "      <td>0</td>\n",
              "      <td>0</td>\n",
              "      <td>0</td>\n",
              "      <td>0</td>\n",
              "      <td>0</td>\n",
              "      <td>0</td>\n",
              "      <td>0</td>\n",
              "      <td>0</td>\n",
              "      <td>0</td>\n",
              "      <td>0</td>\n",
              "      <td>0</td>\n",
              "      <td>0</td>\n",
              "      <td>0</td>\n",
              "      <td>0</td>\n",
              "      <td>0</td>\n",
              "      <td>0</td>\n",
              "      <td>0</td>\n",
              "      <td>...</td>\n",
              "      <td>0</td>\n",
              "      <td>0</td>\n",
              "      <td>0</td>\n",
              "      <td>0</td>\n",
              "      <td>0</td>\n",
              "      <td>0</td>\n",
              "      <td>0</td>\n",
              "      <td>0</td>\n",
              "      <td>0</td>\n",
              "      <td>0</td>\n",
              "      <td>0</td>\n",
              "      <td>0</td>\n",
              "      <td>0</td>\n",
              "      <td>0</td>\n",
              "      <td>0</td>\n",
              "      <td>0</td>\n",
              "      <td>0</td>\n",
              "      <td>0</td>\n",
              "      <td>0</td>\n",
              "      <td>0</td>\n",
              "      <td>0</td>\n",
              "      <td>0</td>\n",
              "      <td>0</td>\n",
              "      <td>0</td>\n",
              "      <td>0</td>\n",
              "      <td>0</td>\n",
              "      <td>0</td>\n",
              "      <td>0</td>\n",
              "      <td>0</td>\n",
              "      <td>0</td>\n",
              "      <td>0</td>\n",
              "      <td>0</td>\n",
              "      <td>0</td>\n",
              "      <td>0</td>\n",
              "      <td>0</td>\n",
              "      <td>0</td>\n",
              "      <td>0</td>\n",
              "      <td>0</td>\n",
              "      <td>0</td>\n",
              "      <td>0</td>\n",
              "    </tr>\n",
              "    <tr>\n",
              "      <th>1</th>\n",
              "      <td>0</td>\n",
              "      <td>0</td>\n",
              "      <td>0</td>\n",
              "      <td>0</td>\n",
              "      <td>0</td>\n",
              "      <td>0</td>\n",
              "      <td>0</td>\n",
              "      <td>0</td>\n",
              "      <td>0</td>\n",
              "      <td>0</td>\n",
              "      <td>0</td>\n",
              "      <td>0</td>\n",
              "      <td>0</td>\n",
              "      <td>0</td>\n",
              "      <td>0</td>\n",
              "      <td>0</td>\n",
              "      <td>0</td>\n",
              "      <td>0</td>\n",
              "      <td>0</td>\n",
              "      <td>0</td>\n",
              "      <td>0</td>\n",
              "      <td>0</td>\n",
              "      <td>0</td>\n",
              "      <td>0</td>\n",
              "      <td>0</td>\n",
              "      <td>0</td>\n",
              "      <td>0</td>\n",
              "      <td>0</td>\n",
              "      <td>0</td>\n",
              "      <td>0</td>\n",
              "      <td>0</td>\n",
              "      <td>0</td>\n",
              "      <td>0</td>\n",
              "      <td>0</td>\n",
              "      <td>0</td>\n",
              "      <td>0</td>\n",
              "      <td>0</td>\n",
              "      <td>0</td>\n",
              "      <td>0</td>\n",
              "      <td>0</td>\n",
              "      <td>...</td>\n",
              "      <td>0</td>\n",
              "      <td>0</td>\n",
              "      <td>0</td>\n",
              "      <td>0</td>\n",
              "      <td>0</td>\n",
              "      <td>0</td>\n",
              "      <td>0</td>\n",
              "      <td>0</td>\n",
              "      <td>0</td>\n",
              "      <td>0</td>\n",
              "      <td>0</td>\n",
              "      <td>0</td>\n",
              "      <td>0</td>\n",
              "      <td>0</td>\n",
              "      <td>0</td>\n",
              "      <td>0</td>\n",
              "      <td>0</td>\n",
              "      <td>0</td>\n",
              "      <td>0</td>\n",
              "      <td>0</td>\n",
              "      <td>0</td>\n",
              "      <td>0</td>\n",
              "      <td>0</td>\n",
              "      <td>0</td>\n",
              "      <td>0</td>\n",
              "      <td>0</td>\n",
              "      <td>0</td>\n",
              "      <td>0</td>\n",
              "      <td>0</td>\n",
              "      <td>0</td>\n",
              "      <td>0</td>\n",
              "      <td>0</td>\n",
              "      <td>0</td>\n",
              "      <td>0</td>\n",
              "      <td>0</td>\n",
              "      <td>0</td>\n",
              "      <td>0</td>\n",
              "      <td>0</td>\n",
              "      <td>0</td>\n",
              "      <td>0</td>\n",
              "    </tr>\n",
              "    <tr>\n",
              "      <th>2</th>\n",
              "      <td>4</td>\n",
              "      <td>0</td>\n",
              "      <td>0</td>\n",
              "      <td>0</td>\n",
              "      <td>0</td>\n",
              "      <td>0</td>\n",
              "      <td>0</td>\n",
              "      <td>0</td>\n",
              "      <td>0</td>\n",
              "      <td>0</td>\n",
              "      <td>0</td>\n",
              "      <td>0</td>\n",
              "      <td>0</td>\n",
              "      <td>0</td>\n",
              "      <td>0</td>\n",
              "      <td>0</td>\n",
              "      <td>0</td>\n",
              "      <td>0</td>\n",
              "      <td>0</td>\n",
              "      <td>0</td>\n",
              "      <td>0</td>\n",
              "      <td>0</td>\n",
              "      <td>0</td>\n",
              "      <td>0</td>\n",
              "      <td>0</td>\n",
              "      <td>0</td>\n",
              "      <td>0</td>\n",
              "      <td>0</td>\n",
              "      <td>0</td>\n",
              "      <td>0</td>\n",
              "      <td>0</td>\n",
              "      <td>0</td>\n",
              "      <td>0</td>\n",
              "      <td>0</td>\n",
              "      <td>0</td>\n",
              "      <td>0</td>\n",
              "      <td>0</td>\n",
              "      <td>0</td>\n",
              "      <td>0</td>\n",
              "      <td>0</td>\n",
              "      <td>...</td>\n",
              "      <td>0</td>\n",
              "      <td>0</td>\n",
              "      <td>0</td>\n",
              "      <td>0</td>\n",
              "      <td>0</td>\n",
              "      <td>0</td>\n",
              "      <td>0</td>\n",
              "      <td>0</td>\n",
              "      <td>0</td>\n",
              "      <td>0</td>\n",
              "      <td>0</td>\n",
              "      <td>0</td>\n",
              "      <td>0</td>\n",
              "      <td>0</td>\n",
              "      <td>0</td>\n",
              "      <td>0</td>\n",
              "      <td>0</td>\n",
              "      <td>0</td>\n",
              "      <td>0</td>\n",
              "      <td>0</td>\n",
              "      <td>0</td>\n",
              "      <td>0</td>\n",
              "      <td>0</td>\n",
              "      <td>0</td>\n",
              "      <td>0</td>\n",
              "      <td>0</td>\n",
              "      <td>0</td>\n",
              "      <td>0</td>\n",
              "      <td>0</td>\n",
              "      <td>0</td>\n",
              "      <td>0</td>\n",
              "      <td>0</td>\n",
              "      <td>0</td>\n",
              "      <td>0</td>\n",
              "      <td>0</td>\n",
              "      <td>0</td>\n",
              "      <td>0</td>\n",
              "      <td>0</td>\n",
              "      <td>0</td>\n",
              "      <td>0</td>\n",
              "    </tr>\n",
              "  </tbody>\n",
              "</table>\n",
              "<p>3 rows × 785 columns</p>\n",
              "</div>"
            ],
            "text/plain": [
              "   initial  1  2  3  4  5  6  7  8  ...  776  777  778  779  780  781  782  783  784\n",
              "0        5  0  0  0  0  0  0  0  0  ...    0    0    0    0    0    0    0    0    0\n",
              "1        0  0  0  0  0  0  0  0  0  ...    0    0    0    0    0    0    0    0    0\n",
              "2        4  0  0  0  0  0  0  0  0  ...    0    0    0    0    0    0    0    0    0\n",
              "\n",
              "[3 rows x 785 columns]"
            ]
          },
          "metadata": {
            "tags": []
          },
          "execution_count": 84
        }
      ]
    },
    {
      "cell_type": "code",
      "metadata": {
        "id": "jx3YNeS9TO3D"
      },
      "source": [
        "test.head(3)"
      ],
      "execution_count": null,
      "outputs": []
    },
    {
      "cell_type": "markdown",
      "metadata": {
        "id": "s1k1hP9_YyLE"
      },
      "source": [
        "Step 2 Relabel 10 different digits with integer encoding\n"
      ]
    },
    {
      "cell_type": "code",
      "metadata": {
        "id": "cJk_7T7-Pa42",
        "outputId": "bc6e0d9c-0c37-48ed-caea-4eeaca4aac37",
        "colab": {
          "base_uri": "https://localhost:8080/",
          "height": 487
        }
      },
      "source": [
        "######### Model a ########\n",
        "### train_a\n",
        "train_a = train\n",
        "train_a['a_relabel'] = 1\n",
        "train_a.loc[train_a['initial']==1,'a_relabel']=0\n",
        "train_a.loc[train_a['initial']==4,'a_relabel']=0 # mark 'relabel' as 0 when initial = 1 and 4\n",
        "print(train_a)\n",
        "# print(train_a['relabel'])\n",
        "### test_a\n",
        "test_a = test\n",
        "test_a['a_relabel'] = 1\n",
        "test_a.loc[test_a['initial']==1,'a_relabel']=0\n",
        "test_a.loc[test_a['initial']==4,'a_relabel']=0 # mark 'relabel' as 0 when initial = 1 and 4\n",
        "print(test_a)"
      ],
      "execution_count": 85,
      "outputs": [
        {
          "output_type": "stream",
          "text": [
            "       initial  1  2  3  4  5  6  ...  779  780  781  782  783  784  a_relabel\n",
            "0            5  0  0  0  0  0  0  ...    0    0    0    0    0    0          1\n",
            "1            0  0  0  0  0  0  0  ...    0    0    0    0    0    0          1\n",
            "2            4  0  0  0  0  0  0  ...    0    0    0    0    0    0          0\n",
            "3            1  0  0  0  0  0  0  ...    0    0    0    0    0    0          0\n",
            "4            9  0  0  0  0  0  0  ...    0    0    0    0    0    0          1\n",
            "...        ... .. .. .. .. .. ..  ...  ...  ...  ...  ...  ...  ...        ...\n",
            "59995        8  0  0  0  0  0  0  ...    0    0    0    0    0    0          1\n",
            "59996        3  0  0  0  0  0  0  ...    0    0    0    0    0    0          1\n",
            "59997        5  0  0  0  0  0  0  ...    0    0    0    0    0    0          1\n",
            "59998        6  0  0  0  0  0  0  ...    0    0    0    0    0    0          1\n",
            "59999        8  0  0  0  0  0  0  ...    0    0    0    0    0    0          1\n",
            "\n",
            "[60000 rows x 786 columns]\n",
            "      initial  1  2  3  4  5  6  ...  779  780  781  782  783  784  a_relabel\n",
            "0           7  0  0  0  0  0  0  ...    0    0    0    0    0    0          1\n",
            "1           2  0  0  0  0  0  0  ...    0    0    0    0    0    0          1\n",
            "2           1  0  0  0  0  0  0  ...    0    0    0    0    0    0          0\n",
            "3           0  0  0  0  0  0  0  ...    0    0    0    0    0    0          1\n",
            "4           4  0  0  0  0  0  0  ...    0    0    0    0    0    0          0\n",
            "...       ... .. .. .. .. .. ..  ...  ...  ...  ...  ...  ...  ...        ...\n",
            "9995        2  0  0  0  0  0  0  ...    0    0    0    0    0    0          1\n",
            "9996        3  0  0  0  0  0  0  ...    0    0    0    0    0    0          1\n",
            "9997        4  0  0  0  0  0  0  ...    0    0    0    0    0    0          0\n",
            "9998        5  0  0  0  0  0  0  ...    0    0    0    0    0    0          1\n",
            "9999        6  0  0  0  0  0  0  ...    0    0    0    0    0    0          1\n",
            "\n",
            "[10000 rows x 786 columns]\n"
          ],
          "name": "stdout"
        }
      ]
    },
    {
      "cell_type": "code",
      "metadata": {
        "id": "kuM85ymMPa7-"
      },
      "source": [
        "### train x\n",
        "train_a_x = train_a.iloc[:,1:785]\n",
        "### train y\n",
        "train_a_y = train_a['a_relabel']\n",
        "### test_x\n",
        "test_a_x = test_a.iloc[:,1:785]\n",
        "### test y\n",
        "test_a_y = test_a['a_relabel']"
      ],
      "execution_count": 87,
      "outputs": []
    },
    {
      "cell_type": "code",
      "metadata": {
        "id": "AtBqcyDnPkxF",
        "outputId": "0313f6b0-1764-4779-af75-a6909e4ceb70",
        "colab": {
          "base_uri": "https://localhost:8080/",
          "height": 34
        }
      },
      "source": [
        "clf_a = GBC(random_state=0).fit(train_a_x, train_a_y)\n",
        "pred_a = clf_a.predict(test_a_x)\n",
        "print(clf_a.score(test_a_x, test_a_y))"
      ],
      "execution_count": 91,
      "outputs": [
        {
          "output_type": "stream",
          "text": [
            "0.9787\n"
          ],
          "name": "stdout"
        }
      ]
    },
    {
      "cell_type": "code",
      "metadata": {
        "id": "IgCMsA7pPkyz",
        "outputId": "0064cb04-e8e6-49b5-92f0-4b7e6e5cc776",
        "colab": {
          "base_uri": "https://localhost:8080/",
          "height": 50
        }
      },
      "source": [
        "print(CM(pred_a,test_a_y))"
      ],
      "execution_count": 208,
      "outputs": [
        {
          "output_type": "stream",
          "text": [
            "[[1964   60]\n",
            " [ 153 7823]]\n"
          ],
          "name": "stdout"
        }
      ]
    },
    {
      "cell_type": "code",
      "metadata": {
        "id": "1yXCmOgGPk4l",
        "outputId": "75a513f1-96dd-46f8-ee3b-fb0b22454581",
        "colab": {
          "base_uri": "https://localhost:8080/",
          "height": 487
        }
      },
      "source": [
        "######### Model b ########\n",
        "### train_b\n",
        "train_b = train\n",
        "train_b['b_relabel'] = 2\n",
        "train_b.loc[train_b['initial']==5,'b_relabel']=0\n",
        "train_b.loc[train_b['initial']==6,'b_relabel']=0 # mark 'relabel' as 0 when initial = 5 and 6\n",
        "print(train_b)\n",
        "### test_b\n",
        "test_b = test\n",
        "test_b['b_relabel'] = 2\n",
        "test_b.loc[test_b['initial']==5,'b_relabel']=0\n",
        "test_b.loc[test_b['initial']==6,'b_relabel']=0 # mark 'relabel' as 0 when initial = 5 and 6\n",
        "print(test_b)"
      ],
      "execution_count": 212,
      "outputs": [
        {
          "output_type": "stream",
          "text": [
            "       initial  1  2  3  4  5  6  ...  779  780  781  782  783  784  b_relabel\n",
            "0            5  0  0  0  0  0  0  ...    0    0    0    0    0    0          0\n",
            "1            0  0  0  0  0  0  0  ...    0    0    0    0    0    0          2\n",
            "2            4  0  0  0  0  0  0  ...    0    0    0    0    0    0          2\n",
            "3            1  0  0  0  0  0  0  ...    0    0    0    0    0    0          2\n",
            "4            9  0  0  0  0  0  0  ...    0    0    0    0    0    0          2\n",
            "...        ... .. .. .. .. .. ..  ...  ...  ...  ...  ...  ...  ...        ...\n",
            "59995        8  0  0  0  0  0  0  ...    0    0    0    0    0    0          2\n",
            "59996        3  0  0  0  0  0  0  ...    0    0    0    0    0    0          2\n",
            "59997        5  0  0  0  0  0  0  ...    0    0    0    0    0    0          0\n",
            "59998        6  0  0  0  0  0  0  ...    0    0    0    0    0    0          0\n",
            "59999        8  0  0  0  0  0  0  ...    0    0    0    0    0    0          2\n",
            "\n",
            "[60000 rows x 786 columns]\n",
            "      initial  1  2  3  4  5  6  ...  779  780  781  782  783  784  b_relabel\n",
            "0           7  0  0  0  0  0  0  ...    0    0    0    0    0    0          2\n",
            "1           2  0  0  0  0  0  0  ...    0    0    0    0    0    0          2\n",
            "2           1  0  0  0  0  0  0  ...    0    0    0    0    0    0          2\n",
            "3           0  0  0  0  0  0  0  ...    0    0    0    0    0    0          2\n",
            "4           4  0  0  0  0  0  0  ...    0    0    0    0    0    0          2\n",
            "...       ... .. .. .. .. .. ..  ...  ...  ...  ...  ...  ...  ...        ...\n",
            "9995        2  0  0  0  0  0  0  ...    0    0    0    0    0    0          2\n",
            "9996        3  0  0  0  0  0  0  ...    0    0    0    0    0    0          2\n",
            "9997        4  0  0  0  0  0  0  ...    0    0    0    0    0    0          2\n",
            "9998        5  0  0  0  0  0  0  ...    0    0    0    0    0    0          0\n",
            "9999        6  0  0  0  0  0  0  ...    0    0    0    0    0    0          0\n",
            "\n",
            "[10000 rows x 786 columns]\n"
          ],
          "name": "stdout"
        }
      ]
    },
    {
      "cell_type": "code",
      "metadata": {
        "id": "nD9wzMg9ilS0"
      },
      "source": [
        "train_b_x = train_b.iloc[:,1:785]\n",
        "train_b_y = train_b['b_relabel']\n",
        "test_b_x = test_b.iloc[:,1:785]\n",
        "test_b_y = test_b['b_relabel']"
      ],
      "execution_count": 92,
      "outputs": []
    },
    {
      "cell_type": "code",
      "metadata": {
        "id": "Wxa9hWZmiuzI",
        "outputId": "4f3e1a8b-7ce0-43c8-8131-cd50407c9b1d",
        "colab": {
          "base_uri": "https://localhost:8080/",
          "height": 34
        }
      },
      "source": [
        "clf_b = GBC(random_state=0).fit(train_b_x, train_b_y)\n",
        "pred_b = clf_b.predict(test_b_x)\n",
        "print(clf_b.score(test_b_x, test_b_y))"
      ],
      "execution_count": 94,
      "outputs": [
        {
          "output_type": "stream",
          "text": [
            "0.9716\n"
          ],
          "name": "stdout"
        }
      ]
    },
    {
      "cell_type": "code",
      "metadata": {
        "id": "uA-TNEnui0QK",
        "outputId": "fbd82aeb-5320-4a91-c6e4-caa754035cca",
        "colab": {
          "base_uri": "https://localhost:8080/",
          "height": 50
        }
      },
      "source": [
        "print(CM(pred_b,test_b_y))"
      ],
      "execution_count": 96,
      "outputs": [
        {
          "output_type": "stream",
          "text": [
            "[[1631   65]\n",
            " [ 219 8085]]\n"
          ],
          "name": "stdout"
        }
      ]
    },
    {
      "cell_type": "code",
      "metadata": {
        "id": "F1xTYQw9ShSa",
        "outputId": "0de794ca-dea2-42d2-9eba-c71313880ca0",
        "colab": {
          "base_uri": "https://localhost:8080/",
          "height": 487
        }
      },
      "source": [
        "######### Model c ########\n",
        "### train_c\n",
        "train_c = train\n",
        "train_c['c_relabel'] = 3\n",
        "train_c.loc[train_c['initial']==2,'c_relabel']=0 # mark 'relabel' as 0 when initial = 2\n",
        "print(train_c)\n",
        "### test_c\n",
        "test_c = test\n",
        "test_c['c_relabel'] = 3\n",
        "test_c.loc[test_c['initial']==2,'c_relabel']=0 # mark 'relabel' as 0 when initial = 2\n",
        "print(test_c)"
      ],
      "execution_count": 97,
      "outputs": [
        {
          "output_type": "stream",
          "text": [
            "       initial  1  2  3  4  5  ...  782  783  784  a_relabel  b_relabel  c_relabel\n",
            "0            5  0  0  0  0  0  ...    0    0    0          1          0          3\n",
            "1            0  0  0  0  0  0  ...    0    0    0          1          2          3\n",
            "2            4  0  0  0  0  0  ...    0    0    0          0          2          3\n",
            "3            1  0  0  0  0  0  ...    0    0    0          0          2          3\n",
            "4            9  0  0  0  0  0  ...    0    0    0          1          2          3\n",
            "...        ... .. .. .. .. ..  ...  ...  ...  ...        ...        ...        ...\n",
            "59995        8  0  0  0  0  0  ...    0    0    0          1          2          3\n",
            "59996        3  0  0  0  0  0  ...    0    0    0          1          2          3\n",
            "59997        5  0  0  0  0  0  ...    0    0    0          1          0          3\n",
            "59998        6  0  0  0  0  0  ...    0    0    0          1          0          3\n",
            "59999        8  0  0  0  0  0  ...    0    0    0          1          2          3\n",
            "\n",
            "[60000 rows x 788 columns]\n",
            "      initial  1  2  3  4  5  ...  782  783  784  a_relabel  b_relabel  c_relabel\n",
            "0           7  0  0  0  0  0  ...    0    0    0          1          2          3\n",
            "1           2  0  0  0  0  0  ...    0    0    0          1          2          0\n",
            "2           1  0  0  0  0  0  ...    0    0    0          0          2          3\n",
            "3           0  0  0  0  0  0  ...    0    0    0          1          2          3\n",
            "4           4  0  0  0  0  0  ...    0    0    0          0          2          3\n",
            "...       ... .. .. .. .. ..  ...  ...  ...  ...        ...        ...        ...\n",
            "9995        2  0  0  0  0  0  ...    0    0    0          1          2          0\n",
            "9996        3  0  0  0  0  0  ...    0    0    0          1          2          3\n",
            "9997        4  0  0  0  0  0  ...    0    0    0          0          2          3\n",
            "9998        5  0  0  0  0  0  ...    0    0    0          1          0          3\n",
            "9999        6  0  0  0  0  0  ...    0    0    0          1          0          3\n",
            "\n",
            "[10000 rows x 788 columns]\n"
          ],
          "name": "stdout"
        }
      ]
    },
    {
      "cell_type": "code",
      "metadata": {
        "id": "26iBaSJpTXKn"
      },
      "source": [
        "train_c_x = train_c.iloc[:,1:785]\n",
        "train_c_y = train_c['c_relabel']\n",
        "test_c_x = test_c.iloc[:,1:785]\n",
        "test_c_y = test_c['c_relabel']"
      ],
      "execution_count": 99,
      "outputs": []
    },
    {
      "cell_type": "code",
      "metadata": {
        "id": "9CycQphpTXTB",
        "outputId": "715b6b37-a477-4854-e846-7382c5740783",
        "colab": {
          "base_uri": "https://localhost:8080/",
          "height": 34
        }
      },
      "source": [
        "clf_c = GBC(random_state=0).fit(train_c_x, train_c_y)\n",
        "pred_c = clf_c.predict(test_c_x)\n",
        "print(clf_c.score(test_c_x, test_c_y))"
      ],
      "execution_count": 124,
      "outputs": [
        {
          "output_type": "stream",
          "text": [
            "0.9851\n"
          ],
          "name": "stdout"
        }
      ]
    },
    {
      "cell_type": "code",
      "metadata": {
        "id": "HaEaptMMTXWc",
        "outputId": "a70f9c5d-be1d-490c-c5c8-4a7c56d23a72",
        "colab": {
          "base_uri": "https://localhost:8080/",
          "height": 50
        }
      },
      "source": [
        "print(CM(pred_c,test_c_y))"
      ],
      "execution_count": 126,
      "outputs": [
        {
          "output_type": "stream",
          "text": [
            "[[ 904   21]\n",
            " [ 128 8947]]\n"
          ],
          "name": "stdout"
        }
      ]
    },
    {
      "cell_type": "code",
      "metadata": {
        "id": "QJm85oa2TXhm",
        "outputId": "698197b2-8025-48cf-ac37-3b31359e50df",
        "colab": {
          "base_uri": "https://localhost:8080/",
          "height": 487
        }
      },
      "source": [
        "######### Model d ########\n",
        "### train_d\n",
        "train_d = train\n",
        "train_d['d_relabel'] = 4\n",
        "train_d.loc[train_d['initial']==1,'d_relabel']=0\n",
        "train_d.loc[train_d['initial']==4,'d_relabel']=0 # mark 'relabel' as 0 when initial = 1,4,7,9\n",
        "train_d.loc[train_d['initial']==7,'d_relabel']=0\n",
        "train_d.loc[train_d['initial']==9,'d_relabel']=0\n",
        "print(train_d)\n",
        "### test_d\n",
        "test_d = test\n",
        "test_d['d_relabel'] = 4\n",
        "test_d.loc[test_d['initial']==1,'d_relabel']=0\n",
        "test_d.loc[test_d['initial']==4,'d_relabel']=0\n",
        "test_d.loc[test_d['initial']==7,'d_relabel']=0\n",
        "test_d.loc[test_d['initial']==9,'d_relabel']=0 # mark 'relabel' as 0 when initial = 1,4,7,9\n",
        "print(test_d)"
      ],
      "execution_count": 100,
      "outputs": [
        {
          "output_type": "stream",
          "text": [
            "       initial  1  2  3  4  ...  784  a_relabel  b_relabel  c_relabel  d_relabel\n",
            "0            5  0  0  0  0  ...    0          1          0          3          4\n",
            "1            0  0  0  0  0  ...    0          1          2          3          4\n",
            "2            4  0  0  0  0  ...    0          0          2          3          0\n",
            "3            1  0  0  0  0  ...    0          0          2          3          0\n",
            "4            9  0  0  0  0  ...    0          1          2          3          0\n",
            "...        ... .. .. .. ..  ...  ...        ...        ...        ...        ...\n",
            "59995        8  0  0  0  0  ...    0          1          2          3          4\n",
            "59996        3  0  0  0  0  ...    0          1          2          3          4\n",
            "59997        5  0  0  0  0  ...    0          1          0          3          4\n",
            "59998        6  0  0  0  0  ...    0          1          0          3          4\n",
            "59999        8  0  0  0  0  ...    0          1          2          3          4\n",
            "\n",
            "[60000 rows x 789 columns]\n",
            "      initial  1  2  3  4  ...  784  a_relabel  b_relabel  c_relabel  d_relabel\n",
            "0           7  0  0  0  0  ...    0          1          2          3          0\n",
            "1           2  0  0  0  0  ...    0          1          2          0          4\n",
            "2           1  0  0  0  0  ...    0          0          2          3          0\n",
            "3           0  0  0  0  0  ...    0          1          2          3          4\n",
            "4           4  0  0  0  0  ...    0          0          2          3          0\n",
            "...       ... .. .. .. ..  ...  ...        ...        ...        ...        ...\n",
            "9995        2  0  0  0  0  ...    0          1          2          0          4\n",
            "9996        3  0  0  0  0  ...    0          1          2          3          4\n",
            "9997        4  0  0  0  0  ...    0          0          2          3          0\n",
            "9998        5  0  0  0  0  ...    0          1          0          3          4\n",
            "9999        6  0  0  0  0  ...    0          1          0          3          4\n",
            "\n",
            "[10000 rows x 789 columns]\n"
          ],
          "name": "stdout"
        }
      ]
    },
    {
      "cell_type": "code",
      "metadata": {
        "id": "ozc4jNpwVkB0"
      },
      "source": [
        "train_d_x = train_d.iloc[:,1:785]\n",
        "train_d_y = train_d['d_relabel']\n",
        "test_d_x = test_d.iloc[:,1:785]\n",
        "test_d_y = test_d['d_relabel']\n"
      ],
      "execution_count": 127,
      "outputs": []
    },
    {
      "cell_type": "code",
      "metadata": {
        "id": "O5h0t2rYVkEO",
        "outputId": "425730a4-c377-46ec-e830-dec462f6c876",
        "colab": {
          "base_uri": "https://localhost:8080/",
          "height": 34
        }
      },
      "source": [
        "clf_d = GBC(random_state=0).fit(train_d_x, train_d_y)\n",
        "pred_d = clf_d.predict(test_d_x)\n",
        "print(clf_d.score(test_d_x, test_d_y))"
      ],
      "execution_count": 128,
      "outputs": [
        {
          "output_type": "stream",
          "text": [
            "0.9723\n"
          ],
          "name": "stdout"
        }
      ]
    },
    {
      "cell_type": "code",
      "metadata": {
        "id": "Lj7xytxNVkG2",
        "outputId": "067345f0-17d8-4533-8499-e3bd87f22601",
        "colab": {
          "base_uri": "https://localhost:8080/",
          "height": 50
        }
      },
      "source": [
        "print(CM(pred_d, test_d_y))"
      ],
      "execution_count": 129,
      "outputs": [
        {
          "output_type": "stream",
          "text": [
            "[[4008  131]\n",
            " [ 146 5715]]\n"
          ],
          "name": "stdout"
        }
      ]
    },
    {
      "cell_type": "code",
      "metadata": {
        "id": "3QCsocsOVkKC",
        "outputId": "5f6f02b7-4da1-44e6-a0c0-627be110c301",
        "colab": {
          "base_uri": "https://localhost:8080/",
          "height": 487
        }
      },
      "source": [
        "######### Model e ########\n",
        "### train_e\n",
        "train_e = train\n",
        "train_e['e_relabel'] = 0\n",
        "train_e.loc[train_e['initial']==0,'e_relabel']=5\n",
        "train_e.loc[train_e['initial']==2,'e_relabel']=5 # mark 'relabel' as 5 when initial = 1,4,7,9\n",
        "train_e.loc[train_e['initial']==6,'e_relabel']=5\n",
        "train_e.loc[train_e['initial']==8,'e_relabel']=5\n",
        "print(train_e)\n",
        "### test_e\n",
        "test_e = test\n",
        "test_e['e_relabel'] = 0\n",
        "test_e.loc[test_e['initial']==0,'e_relabel']=5\n",
        "test_e.loc[test_e['initial']==2,'e_relabel']=5\n",
        "test_e.loc[test_e['initial']==6,'e_relabel']=5\n",
        "test_e.loc[test_e['initial']==8,'e_relabel']=5 # mark 'relabel' as 5 when initial = 1,4,7,9\n",
        "print(test_e)"
      ],
      "execution_count": 102,
      "outputs": [
        {
          "output_type": "stream",
          "text": [
            "       initial  1  2  3  ...  b_relabel  c_relabel  d_relabel  e_relabel\n",
            "0            5  0  0  0  ...          0          3          4          0\n",
            "1            0  0  0  0  ...          2          3          4          5\n",
            "2            4  0  0  0  ...          2          3          0          0\n",
            "3            1  0  0  0  ...          2          3          0          0\n",
            "4            9  0  0  0  ...          2          3          0          0\n",
            "...        ... .. .. ..  ...        ...        ...        ...        ...\n",
            "59995        8  0  0  0  ...          2          3          4          5\n",
            "59996        3  0  0  0  ...          2          3          4          0\n",
            "59997        5  0  0  0  ...          0          3          4          0\n",
            "59998        6  0  0  0  ...          0          3          4          5\n",
            "59999        8  0  0  0  ...          2          3          4          5\n",
            "\n",
            "[60000 rows x 790 columns]\n",
            "      initial  1  2  3  ...  b_relabel  c_relabel  d_relabel  e_relabel\n",
            "0           7  0  0  0  ...          2          3          0          0\n",
            "1           2  0  0  0  ...          2          0          4          5\n",
            "2           1  0  0  0  ...          2          3          0          0\n",
            "3           0  0  0  0  ...          2          3          4          5\n",
            "4           4  0  0  0  ...          2          3          0          0\n",
            "...       ... .. .. ..  ...        ...        ...        ...        ...\n",
            "9995        2  0  0  0  ...          2          0          4          5\n",
            "9996        3  0  0  0  ...          2          3          4          0\n",
            "9997        4  0  0  0  ...          2          3          0          0\n",
            "9998        5  0  0  0  ...          0          3          4          0\n",
            "9999        6  0  0  0  ...          0          3          4          5\n",
            "\n",
            "[10000 rows x 790 columns]\n"
          ],
          "name": "stdout"
        }
      ]
    },
    {
      "cell_type": "code",
      "metadata": {
        "id": "IuOc_ek_VkMx"
      },
      "source": [
        "train_e_x = train_e.iloc[:,1:785]\n",
        "train_e_y = train_e['e_relabel']\n",
        "test_e_x = test_e.iloc[:,1:785]\n",
        "test_e_y = test_e['e_relabel']"
      ],
      "execution_count": 103,
      "outputs": []
    },
    {
      "cell_type": "code",
      "metadata": {
        "id": "j_zVEY9oVkPQ",
        "outputId": "8cdeba43-b680-4ec9-c9f5-fa42353c5293",
        "colab": {
          "base_uri": "https://localhost:8080/",
          "height": 34
        }
      },
      "source": [
        "clf_e = GBC(random_state=0).fit(train_e_x, train_e_y)\n",
        "pred_e = clf_e.predict(test_e_x)\n",
        "print(clf_e.score(test_e_x, test_e_y))"
      ],
      "execution_count": 130,
      "outputs": [
        {
          "output_type": "stream",
          "text": [
            "0.9574\n"
          ],
          "name": "stdout"
        }
      ]
    },
    {
      "cell_type": "code",
      "metadata": {
        "id": "i25MAHElYBI8",
        "outputId": "85d8cc44-b94f-48d4-c4ea-9b6a9e78796c",
        "colab": {
          "base_uri": "https://localhost:8080/",
          "height": 50
        }
      },
      "source": [
        "print(CM(pred_e, test_e_y))"
      ],
      "execution_count": 131,
      "outputs": [
        {
          "output_type": "stream",
          "text": [
            "[[5845  215]\n",
            " [ 211 3729]]\n"
          ],
          "name": "stdout"
        }
      ]
    },
    {
      "cell_type": "code",
      "metadata": {
        "id": "D7-OPHrjVkSG",
        "outputId": "97d0eac1-1ca0-48ae-bbfa-650063c4f553",
        "colab": {
          "base_uri": "https://localhost:8080/",
          "height": 487
        }
      },
      "source": [
        "######### Model f ########\n",
        "### train_f\n",
        "train_f = train\n",
        "train_f['f_relabel'] = 6\n",
        "train_f.loc[train_f['initial']==1,'f_relabel']=0\n",
        "train_f.loc[train_f['initial']==2,'f_relabel']=0 # mark 'relabel' as 0 when initial = 1,2,3,7\n",
        "train_f.loc[train_f['initial']==3,'f_relabel']=0\n",
        "train_f.loc[train_f['initial']==7,'f_relabel']=0\n",
        "print(train_f)\n",
        "### test_f\n",
        "test_f = test\n",
        "test_f['f_relabel'] = 6\n",
        "test_f.loc[test_f['initial']==1,'f_relabel']=0\n",
        "test_f.loc[test_f['initial']==2,'f_relabel']=0\n",
        "test_f.loc[test_f['initial']==3,'f_relabel']=0\n",
        "test_f.loc[test_f['initial']==7,'f_relabel']=0 # mark 'relabel' as 0 when initial = 1,2,3,7\n",
        "print(test_f)"
      ],
      "execution_count": 104,
      "outputs": [
        {
          "output_type": "stream",
          "text": [
            "       initial  1  2  3  ...  c_relabel  d_relabel  e_relabel  f_relabel\n",
            "0            5  0  0  0  ...          3          4          0          6\n",
            "1            0  0  0  0  ...          3          4          5          6\n",
            "2            4  0  0  0  ...          3          0          0          6\n",
            "3            1  0  0  0  ...          3          0          0          0\n",
            "4            9  0  0  0  ...          3          0          0          6\n",
            "...        ... .. .. ..  ...        ...        ...        ...        ...\n",
            "59995        8  0  0  0  ...          3          4          5          6\n",
            "59996        3  0  0  0  ...          3          4          0          0\n",
            "59997        5  0  0  0  ...          3          4          0          6\n",
            "59998        6  0  0  0  ...          3          4          5          6\n",
            "59999        8  0  0  0  ...          3          4          5          6\n",
            "\n",
            "[60000 rows x 791 columns]\n",
            "      initial  1  2  3  ...  c_relabel  d_relabel  e_relabel  f_relabel\n",
            "0           7  0  0  0  ...          3          0          0          0\n",
            "1           2  0  0  0  ...          0          4          5          0\n",
            "2           1  0  0  0  ...          3          0          0          0\n",
            "3           0  0  0  0  ...          3          4          5          6\n",
            "4           4  0  0  0  ...          3          0          0          6\n",
            "...       ... .. .. ..  ...        ...        ...        ...        ...\n",
            "9995        2  0  0  0  ...          0          4          5          0\n",
            "9996        3  0  0  0  ...          3          4          0          0\n",
            "9997        4  0  0  0  ...          3          0          0          6\n",
            "9998        5  0  0  0  ...          3          4          0          6\n",
            "9999        6  0  0  0  ...          3          4          5          6\n",
            "\n",
            "[10000 rows x 791 columns]\n"
          ],
          "name": "stdout"
        }
      ]
    },
    {
      "cell_type": "code",
      "metadata": {
        "id": "4miEmS4QVkVf"
      },
      "source": [
        "train_f_x = train_f.iloc[:,1:785]\n",
        "train_f_y = train_f['f_relabel']\n",
        "test_f_x = test_f.iloc[:,1:785]\n",
        "test_f_y = test_f['f_relabel']"
      ],
      "execution_count": 105,
      "outputs": []
    },
    {
      "cell_type": "code",
      "metadata": {
        "id": "jTBn4Q8kYEkW",
        "outputId": "afe88128-59c1-4cc0-97fa-e1c69be83cce",
        "colab": {
          "base_uri": "https://localhost:8080/",
          "height": 34
        }
      },
      "source": [
        "clf_f = GBC(random_state=0).fit(train_f_x, train_f_y)\n",
        "pred_f = clf_f.predict(test_f_x)\n",
        "print(clf_f.score(test_f_x, test_f_y))"
      ],
      "execution_count": 132,
      "outputs": [
        {
          "output_type": "stream",
          "text": [
            "0.9617\n"
          ],
          "name": "stdout"
        }
      ]
    },
    {
      "cell_type": "code",
      "metadata": {
        "id": "JGDHzHEdYEpJ",
        "outputId": "a709e0bc-5057-41c2-8a8d-451c97244aab",
        "colab": {
          "base_uri": "https://localhost:8080/",
          "height": 50
        }
      },
      "source": [
        "print(CM(pred_f, test_f_y))"
      ],
      "execution_count": 133,
      "outputs": [
        {
          "output_type": "stream",
          "text": [
            "[[3978  156]\n",
            " [ 227 5639]]\n"
          ],
          "name": "stdout"
        }
      ]
    },
    {
      "cell_type": "code",
      "metadata": {
        "id": "JVrSBqRBYEsj",
        "outputId": "40ad1009-1c80-4708-8b8c-a6067754a386",
        "colab": {
          "base_uri": "https://localhost:8080/",
          "height": 487
        }
      },
      "source": [
        "######### Model g ########\n",
        "### train_g\n",
        "train_g = train\n",
        "train_g['g_relabel'] = 7\n",
        "train_g.loc[train_g['initial']==0,'g_relabel']=0\n",
        "train_g.loc[train_g['initial']==1,'g_relabel']=0 # mark 'relabel' as 0 when initial = 0,1,7\n",
        "train_g.loc[train_g['initial']==7,'g_relabel']=0\n",
        "print(train_g)\n",
        "### test_g\n",
        "test_g = test\n",
        "test_g['g_relabel'] = 7\n",
        "test_g.loc[test_g['initial']==0,'g_relabel']=0\n",
        "test_g.loc[test_g['initial']==1,'g_relabel']=0 # mark 'relabel' as 0 when initial = 0,1,7\n",
        "test_g.loc[test_g['initial']==7,'g_relabel']=0\n",
        "print(test_g)"
      ],
      "execution_count": 116,
      "outputs": [
        {
          "output_type": "stream",
          "text": [
            "       initial  1  2  3  ...  d_relabel  e_relabel  f_relabel  g_relabel\n",
            "0            5  0  0  0  ...          4          0          6          7\n",
            "1            0  0  0  0  ...          4          5          6          0\n",
            "2            4  0  0  0  ...          0          0          6          7\n",
            "3            1  0  0  0  ...          0          0          0          0\n",
            "4            9  0  0  0  ...          0          0          6          7\n",
            "...        ... .. .. ..  ...        ...        ...        ...        ...\n",
            "59995        8  0  0  0  ...          4          5          6          7\n",
            "59996        3  0  0  0  ...          4          0          0          7\n",
            "59997        5  0  0  0  ...          4          0          6          7\n",
            "59998        6  0  0  0  ...          4          5          6          7\n",
            "59999        8  0  0  0  ...          4          5          6          7\n",
            "\n",
            "[60000 rows x 792 columns]\n",
            "      initial  1  2  3  ...  d_relabel  e_relabel  f_relabel  g_relabel\n",
            "0           7  0  0  0  ...          0          0          0          0\n",
            "1           2  0  0  0  ...          4          5          0          7\n",
            "2           1  0  0  0  ...          0          0          0          0\n",
            "3           0  0  0  0  ...          4          5          6          0\n",
            "4           4  0  0  0  ...          0          0          6          7\n",
            "...       ... .. .. ..  ...        ...        ...        ...        ...\n",
            "9995        2  0  0  0  ...          4          5          0          7\n",
            "9996        3  0  0  0  ...          4          0          0          7\n",
            "9997        4  0  0  0  ...          0          0          6          7\n",
            "9998        5  0  0  0  ...          4          0          6          7\n",
            "9999        6  0  0  0  ...          4          5          6          7\n",
            "\n",
            "[10000 rows x 792 columns]\n"
          ],
          "name": "stdout"
        }
      ]
    },
    {
      "cell_type": "code",
      "metadata": {
        "id": "Z9T4UmbKYXmz"
      },
      "source": [
        "train_g_x = train_g.iloc[:,1:785]\n",
        "train_g_y = train_g['g_relabel']\n",
        "test_g_x = test_g.iloc[:,1:785]\n",
        "test_g_y = test_g['g_relabel']"
      ],
      "execution_count": 170,
      "outputs": []
    },
    {
      "cell_type": "code",
      "metadata": {
        "id": "UU9yVAe5YXpg",
        "outputId": "2b8eaf5e-5498-4861-baea-bc40265ff53d",
        "colab": {
          "base_uri": "https://localhost:8080/",
          "height": 34
        }
      },
      "source": [
        "clf_g = GBC(random_state=0).fit(train_g_x, train_g_y)\n",
        "pred_g = clf_g.predict(test_g_x)\n",
        "print(clf_g.score(test_g_x, test_g_y))"
      ],
      "execution_count": 171,
      "outputs": [
        {
          "output_type": "stream",
          "text": [
            "0.9663\n"
          ],
          "name": "stdout"
        }
      ]
    },
    {
      "cell_type": "code",
      "metadata": {
        "id": "_jLz5cI6YXvV",
        "outputId": "85d26ec9-489e-45f7-f0e9-b2d28a56e044",
        "colab": {
          "base_uri": "https://localhost:8080/",
          "height": 50
        }
      },
      "source": [
        "print(CM(pred_g, test_g_y))"
      ],
      "execution_count": 172,
      "outputs": [
        {
          "output_type": "stream",
          "text": [
            "[[2924  118]\n",
            " [ 219 6739]]\n"
          ],
          "name": "stdout"
        }
      ]
    },
    {
      "cell_type": "code",
      "metadata": {
        "id": "43InjXSwAo67",
        "outputId": "0c786e22-494c-4bcb-c6fc-f447fb649980",
        "colab": {
          "base_uri": "https://localhost:8080/",
          "height": 218
        }
      },
      "source": [
        "test_relabel = pd.concat(\n",
        "    [test_g['a_relabel'],test_g['b_relabel'],test_g['c_relabel'],test_g['d_relabel'],\n",
        "     test_g['e_relabel'],test_g['f_relabel'],test_g['g_relabel']],axis = 0\n",
        "     )\n",
        "pred_a = pd.Series(pred_a,dtype = 'uint8')\n",
        "pred_b = pd.Series(pred_b,dtype = 'uint8')\n",
        "pred_c = pd.Series(pred_c,dtype = 'uint8')\n",
        "pred_d = pd.Series(pred_d,dtype = 'uint8')\n",
        "pred_e = pd.Series(pred_e,dtype = 'uint8')\n",
        "pred_f = pd.Series(pred_f,dtype = 'uint8')\n",
        "pred_g = pd.Series(pred_g,dtype = 'uint8')\n",
        "test_pred = pd.concat([pred_a,pred_b,pred_c,pred_d,pred_e,pred_f,pred_g],axis = 0)\n",
        "test_relabel\n",
        "test_pred"
      ],
      "execution_count": 199,
      "outputs": [
        {
          "output_type": "execute_result",
          "data": {
            "text/plain": [
              "0       1\n",
              "1       1\n",
              "2       0\n",
              "3       1\n",
              "4       0\n",
              "       ..\n",
              "9995    7\n",
              "9996    7\n",
              "9997    7\n",
              "9998    7\n",
              "9999    7\n",
              "Length: 70000, dtype: uint8"
            ]
          },
          "metadata": {
            "tags": []
          },
          "execution_count": 199
        }
      ]
    },
    {
      "cell_type": "code",
      "metadata": {
        "id": "asz4Q8i7Ao-Q",
        "outputId": "5494eff6-f532-438e-d23d-9e2be8aa0047",
        "colab": {
          "base_uri": "https://localhost:8080/",
          "height": 168
        }
      },
      "source": [
        "print(CM(test_pred, test_relabel,labels = [0,1,2,3,4,5,6,7]))"
      ],
      "execution_count": 207,
      "outputs": [
        {
          "output_type": "stream",
          "text": [
            "[[21254    60    65    21   131   215   156   118]\n",
            " [  153  7823     0     0     0     0     0     0]\n",
            " [  219     0  8085     0     0     0     0     0]\n",
            " [  128     0     0  8947     0     0     0     0]\n",
            " [  146     0     0     0  5715     0     0     0]\n",
            " [  211     0     0     0     0  3729     0     0]\n",
            " [  227     0     0     0     0     0  5639     0]\n",
            " [  219     0     0     0     0     0     0  6739]]\n",
            "0.9704428571428572\n"
          ],
          "name": "stdout"
        }
      ]
    },
    {
      "cell_type": "code",
      "metadata": {
        "id": "nNx_Yf52RJ85",
        "outputId": "2464bae4-17b8-4489-a582-7f5e61a6448e",
        "colab": {
          "base_uri": "https://localhost:8080/",
          "height": 34
        }
      },
      "source": [
        "from sklearn.metrics import accuracy_score\n",
        "print(accuracy_score(test_pred, test_relabel))"
      ],
      "execution_count": 213,
      "outputs": [
        {
          "output_type": "stream",
          "text": [
            "0.9704428571428572\n"
          ],
          "name": "stdout"
        }
      ]
    }
  ]
}